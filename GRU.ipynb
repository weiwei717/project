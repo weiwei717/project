{
 "cells": [
  {
   "cell_type": "code",
   "execution_count": 4,
   "metadata": {
    "scrolled": true
   },
   "outputs": [],
   "source": [
    "# coding=utf-8\n",
    "import csv\n",
    "import os\n",
    "import numpy as np\n",
    "import tensorflow as tf\n",
    "from keras.models import Sequential\n",
    "from keras.layers import SimpleRNN, Activation, Dense, Embedding,LSTM,GRU\n",
    "import pandas as pd\n",
    "import jieba \n",
    "import logging\n",
    "from hanziconv import HanziConv\n",
    "from gensim.models import Word2Vec  \n",
    "from gensim.models.word2vec import LineSentence\n",
    "import matplotlib.pyplot as plt\n",
    "%matplotlib inline\n",
    "#logging.basicConfig(format='%(asctime)s : %(levelname)s : %(message)s', level=logging.INFO)"
   ]
  },
  {
   "cell_type": "code",
   "execution_count": null,
   "metadata": {},
   "outputs": [],
   "source": [
    "#add dictionary\n",
    "jieba.add_word('不')\n",
    "jieba.add_word('喜歡')\n",
    "jieba.add_word('現在')\n",
    "jieba.add_word('在乎')\n",
    "jieba.add_word('瘋瞭')\n",
    "jieba.add_word('永遠')\n",
    "jieba.add_word('無法')\n",
    "jieba.add_word('這堂課')\n",
    "jieba.add_word('會')\n",
    "jieba.add_word('齣糗')\n",
    "jieba.add_word('退迴來')\n",
    "jieba.add_word('覺得')\n",
    "jieba.add_word('閤作')\n",
    "jieba.add_word('應該')\n",
    "jieba.add_word('這件事')\n",
    "jieba.add_word('外麵')\n",
    "jieba.add_word('麵對')\n",
    "jieba.add_word('太')\n",
    "jieba.add_word('對勁')\n",
    "jieba.add_word('控製')\n",
    "jieba.add_word('麵前')\n",
    "jieba.add_word('禮拜')\n",
    "jieba.add_word('睏擾')\n",
    "jieba.add_word('我')\n",
    "jieba.add_word('想')\n",
    "jieba.add_word('總是')\n",
    "jieba.add_word('都會')\n",
    "jieba.add_word('大傢')\n",
    "jieba.add_word('過得')\n",
    "jieba.add_word('大傢')\n",
    "jieba.add_word('背後')\n",
    "jieba.add_word('纔會')\n",
    "jieba.add_word('沒有')\n",
    "jieba.add_word('猜到')\n",
    "jieba.add_word('毀瞭')\n",
    "jieba.add_word('受傷')\n",
    "jieba.add_word('絕對')\n",
    "jieba.add_word('長得')\n",
    "jieba.add_word('處的來')\n",
    "jieba.add_word('也許')\n",
    "jieba.add_word('每')\n",
    "jieba.add_word('愛')"
   ]
  },
  {
   "cell_type": "code",
   "execution_count": 5,
   "metadata": {},
   "outputs": [],
   "source": [
    "filePath1='train_test.txt'\n",
    "fileSegWordDonePath1 ='corpusSegDone1.txt'\n",
    "filePath2='test.txt'\n",
    "fileSegWordDonePath2 ='corpusSegDone2.txt'\n",
    "filePath='trainandtest.txt'\n",
    "fileSegWordDonePath ='corpusSegDone.txt'\n",
    "\n",
    "# read the file by file\n",
    "fileTrainRead = []\n",
    "with open(filePath) as fileTrainRaw:\n",
    "    for line in fileTrainRaw:\n",
    "        fileTrainRead.append(HanziConv.toTraditional(line))\n",
    "# segment word with jieba\n",
    "fileTrainSeg=[]\n",
    "for i in range(len(fileTrainRead)):\n",
    "    fileTrainSeg.append([' '.join(list(jieba.cut(fileTrainRead[i][:],cut_all=False)))])\n",
    "    with open(fileSegWordDonePath,'wb') as fW:\n",
    "        for j in range(len(fileTrainSeg)):\n",
    "            fW.write(fileTrainSeg[j][0].encode('utf-8'))\n",
    "\n",
    "\n",
    "fileTrainRead = []\n",
    "with open(filePath1) as fileTrainRaw:\n",
    "    for line in fileTrainRaw:\n",
    "        fileTrainRead.append(HanziConv.toTraditional(line))\n",
    "\n",
    "# segment word with jieba\n",
    "fileTrainSeg=[]\n",
    "for i in range(len(fileTrainRead)):\n",
    "    fileTrainSeg.append([' '.join(list(jieba.cut(fileTrainRead[i][:],cut_all=False)))])\n",
    "    with open(fileSegWordDonePath1,'wb') as fW:\n",
    "        for j in range(len(fileTrainSeg)):\n",
    "            fW.write(fileTrainSeg[j][0].encode('utf-8'))\n",
    "\n",
    "fileTrainRead = []\n",
    "with open(filePath2) as fileTrainRaw:\n",
    "    for line in fileTrainRaw:\n",
    "        fileTrainRead.append(HanziConv.toTraditional(line))\n",
    "\n",
    "# segment word with jieba\n",
    "fileTrainSeg=[]\n",
    "for i in range(len(fileTrainRead)):\n",
    "    fileTrainSeg.append([' '.join(list(jieba.cut(fileTrainRead[i][:],cut_all=False)))])\n",
    "    with open(fileSegWordDonePath2,'wb') as fW:\n",
    "        for j in range(len(fileTrainSeg)):\n",
    "            fW.write(fileTrainSeg[j][0].encode('utf-8'))\n"
   ]
  },
  {
   "cell_type": "code",
   "execution_count": 6,
   "metadata": {},
   "outputs": [
    {
     "name": "stdout",
     "output_type": "stream",
     "text": [
      "Word2Vec(vocab=286, size=2, alpha=0.025)\n",
      "[0. 0.]\n",
      "0.211379274725914\n"
     ]
    },
    {
     "name": "stderr",
     "output_type": "stream",
     "text": [
      "c:\\users\\wayway\\appdata\\local\\programs\\python\\python35\\lib\\site-packages\\ipykernel_launcher.py:22: FutureWarning: Method .as_matrix will be removed in a future version. Use .values instead.\n",
      "c:\\users\\wayway\\appdata\\local\\programs\\python\\python35\\lib\\site-packages\\ipykernel_launcher.py:26: FutureWarning: Method .as_matrix will be removed in a future version. Use .values instead.\n"
     ]
    }
   ],
   "source": [
    "inp1 = '1.txt'\n",
    "fileSegWordDonePath1 ='2.txt'\n",
    "fileSegWordDonePath2 ='3.txt'\n",
    "kmodel = Word2Vec(LineSentence(inp1), size=2 , min_count=1)\n",
    "print(kmodel)\n",
    "word2idx = {\"_PAD\": 0} # 初始化 `[word : token]` 字典，后期 tokenize 语料库就是用该词典。\n",
    "vocab_list = [(k, kmodel.wv[k]) for k, v in kmodel.wv.vocab.items()]\n",
    "#存储所有 word2vec 中所有向量的数组，留意其中多一位，词向量全为 0， 用于 padding\n",
    "embeddings_matrix = np.zeros((len(kmodel.wv.vocab.items()) + 1, kmodel.vector_size))\n",
    "for i in range(len(vocab_list)):\n",
    "    word = vocab_list[i][0]\n",
    "    word2idx[word] = i + 1\n",
    "    embeddings_matrix[i + 1] = vocab_list[i][1]\n",
    "print(embeddings_matrix[0])\n",
    "print(embeddings_matrix[1][0])\n",
    "    \n",
    "df = pd.read_csv('output.csv',header=None)\n",
    "y_train = df.as_matrix()\n",
    "#print (a.shape)\n",
    "#print(X_train)\n",
    "df = pd.read_csv('output_test.csv',header=None)\n",
    "y_test = df.as_matrix()"
   ]
  },
  {
   "cell_type": "code",
   "execution_count": 7,
   "metadata": {},
   "outputs": [
    {
     "name": "stdout",
     "output_type": "stream",
     "text": [
      "[-0.16052105 -0.19393131]\n",
      "[0.00203534 0.15631916]\n",
      "[0.04581968 0.11442892]\n",
      "[-0.13503312 -0.04192081]\n",
      "[ 0.05054644 -0.15995528]\n"
     ]
    },
    {
     "name": "stderr",
     "output_type": "stream",
     "text": [
      "c:\\users\\wayway\\appdata\\local\\programs\\python\\python35\\lib\\site-packages\\ipykernel_launcher.py:3: DeprecationWarning: Call to deprecated `__getitem__` (Method will be removed in 4.0.0, use self.wv.__getitem__() instead).\n",
      "  This is separate from the ipykernel package so we can avoid doing imports until\n",
      "c:\\users\\wayway\\appdata\\local\\programs\\python\\python35\\lib\\site-packages\\ipykernel_launcher.py:4: DeprecationWarning: Call to deprecated `__getitem__` (Method will be removed in 4.0.0, use self.wv.__getitem__() instead).\n",
      "  after removing the cwd from sys.path.\n",
      "c:\\users\\wayway\\appdata\\local\\programs\\python\\python35\\lib\\site-packages\\ipykernel_launcher.py:5: DeprecationWarning: Call to deprecated `__getitem__` (Method will be removed in 4.0.0, use self.wv.__getitem__() instead).\n",
      "  \"\"\"\n",
      "c:\\users\\wayway\\appdata\\local\\programs\\python\\python35\\lib\\site-packages\\ipykernel_launcher.py:6: DeprecationWarning: Call to deprecated `__getitem__` (Method will be removed in 4.0.0, use self.wv.__getitem__() instead).\n",
      "  \n",
      "c:\\users\\wayway\\appdata\\local\\programs\\python\\python35\\lib\\site-packages\\ipykernel_launcher.py:7: DeprecationWarning: Call to deprecated `__getitem__` (Method will be removed in 4.0.0, use self.wv.__getitem__() instead).\n",
      "  import sys\n"
     ]
    }
   ],
   "source": [
    "#print(embeddings_matrix[1])\n",
    "\n",
    "print(kmodel[u'他'])\n",
    "print(kmodel[u'一定'])\n",
    "print(kmodel[u'不'])\n",
    "print(kmodel[u'信任'])\n",
    "print(kmodel[u'我'])"
   ]
  },
  {
   "cell_type": "code",
   "execution_count": 8,
   "metadata": {
    "scrolled": true
   },
   "outputs": [
    {
     "name": "stderr",
     "output_type": "stream",
     "text": [
      "c:\\users\\wayway\\appdata\\local\\programs\\python\\python35\\lib\\site-packages\\ipykernel_launcher.py:9: DeprecationWarning: Call to deprecated `__getitem__` (Method will be removed in 4.0.0, use self.wv.__getitem__() instead).\n",
      "  if __name__ == '__main__':\n",
      "c:\\users\\wayway\\appdata\\local\\programs\\python\\python35\\lib\\site-packages\\ipykernel_launcher.py:23: DeprecationWarning: Call to deprecated `__getitem__` (Method will be removed in 4.0.0, use self.wv.__getitem__() instead).\n"
     ]
    },
    {
     "name": "stdout",
     "output_type": "stream",
     "text": [
      "[[162  73 159 ...   0   0   0]\n",
      " [ 54 277  15 ...   0   0   0]\n",
      " [228 157  73 ...   0   0   0]\n",
      " ...\n",
      " [ 18 193 169 ...   0   0   0]\n",
      " [238  12 286 ...   0   0   0]\n",
      " [187  82  18 ...   0   0   0]]\n"
     ]
    },
    {
     "name": "stderr",
     "output_type": "stream",
     "text": [
      "c:\\users\\wayway\\appdata\\local\\programs\\python\\python35\\lib\\site-packages\\ipykernel_launcher.py:45: DeprecationWarning: Call to deprecated `__getitem__` (Method will be removed in 4.0.0, use self.wv.__getitem__() instead).\n",
      "c:\\users\\wayway\\appdata\\local\\programs\\python\\python35\\lib\\site-packages\\ipykernel_launcher.py:59: DeprecationWarning: Call to deprecated `__getitem__` (Method will be removed in 4.0.0, use self.wv.__getitem__() instead).\n"
     ]
    }
   ],
   "source": [
    "data_array = []\n",
    "with open(fileSegWordDonePath1,'rb') as fs:\n",
    "    row = fs.read().decode('utf-8').split(' ')\n",
    "    temp = []\n",
    "    count = 0\n",
    "    for i in range(len(row)):\n",
    "        if '\\n' not in row[i]:\n",
    "            for j in range(len(embeddings_matrix)):\n",
    "                if embeddings_matrix[j][0] == kmodel[row[i]][0]:\n",
    "                    temp.append(j)\n",
    "            count += 1\n",
    "        else:\n",
    "            if count<15:\n",
    "                num = 15 - count\n",
    "                for j in range(num):\n",
    "                    zero = 0\n",
    "                    temp.append(zero)\n",
    "            temp[0] = np.squeeze(temp[0])\n",
    "            data_array.append(temp)\n",
    "            word = row[i].split()\n",
    "            temp = []\n",
    "            for j in range(len(embeddings_matrix)):\n",
    "                if embeddings_matrix[j][0] == kmodel[word][0][0]:\n",
    "                    temp.append(j)\n",
    "            count = 1\n",
    "    if count<15:\n",
    "        num = 15 - count\n",
    "        for j in range(num):\n",
    "            zero = 0\n",
    "            temp.append(zero)\n",
    "    data_array.append(temp)\n",
    "data_array = np.array(data_array).reshape((153, 15))\n",
    "data_array[152][0] = np.squeeze(data_array[152][0])\n",
    "X_train=data_array[:,:]\n",
    "print (X_train)\n",
    "\n",
    "data_array = []\n",
    "with open(fileSegWordDonePath2,'rb') as fs:\n",
    "    row = fs.read().decode('utf-8').split(' ')\n",
    "    temp = []\n",
    "    count = 0\n",
    "    for i in range(len(row)):\n",
    "        if '\\n' not in row[i]:\n",
    "            for j in range(len(embeddings_matrix)):\n",
    "                if embeddings_matrix[j][0] == kmodel[row[i]][0]:\n",
    "                    temp.append(j)\n",
    "            count += 1\n",
    "        else:\n",
    "            if count<15:\n",
    "                num = 15 - count\n",
    "                for j in range(num):\n",
    "                    zero = 0\n",
    "                    temp.append(zero)\n",
    "            temp[0] = np.squeeze(temp[0])\n",
    "            data_array.append(temp)\n",
    "            word = row[i].split()\n",
    "            temp = []\n",
    "            for j in range(len(embeddings_matrix)):\n",
    "                if embeddings_matrix[j][0] == kmodel[word][0][0]:\n",
    "                    temp.append(j)\n",
    "            count = 1\n",
    "    if count<15:\n",
    "        num = 15 - count\n",
    "        for j in range(num):\n",
    "            zero = 0\n",
    "            temp.append(zero)\n",
    "    data_array.append(temp)\n",
    "\n",
    "data_array = np.array(data_array).reshape((28, 15))\n",
    "data_array[27][0] = np.squeeze(data_array[27][0])\n",
    "X_test=data_array[:,:]\n"
   ]
  },
  {
   "cell_type": "code",
   "execution_count": 9,
   "metadata": {},
   "outputs": [
    {
     "name": "stdout",
     "output_type": "stream",
     "text": [
      "Epoch 1/1\n",
      "153/153 [==============================] - 1s 5ms/step - loss: 1.7908 - acc: 0.1961\n",
      "iteration: 25 loss: 1.7610258767807405  accuracy: 0.2549019678940181\n",
      "test accuracy: 0.2857142857142857\n",
      "iteration: 50 loss: 1.660133084440543  accuracy: 0.32679738640006073\n",
      "test accuracy: 0.35714285714285715\n",
      "iteration: 75 loss: 1.4666103031121047  accuracy: 0.45098038962463927\n",
      "test accuracy: 0.39285714285714285\n",
      "iteration: 100 loss: 1.3091073862088272  accuracy: 0.47058822886616575\n",
      "test accuracy: 0.39285714285714285\n",
      "iteration: 125 loss: 1.155862114787881  accuracy: 0.5490195994673212\n",
      "test accuracy: 0.35714285714285715\n",
      "iteration: 150 loss: 0.9802481481452393  accuracy: 0.6535947729949079\n",
      "test accuracy: 0.39285714285714285\n",
      "iteration: 175 loss: 0.8074047187574549  accuracy: 0.6993463960737963\n",
      "test accuracy: 0.39285714285714285\n",
      "iteration: 200 loss: 0.6479773926579095  accuracy: 0.7712418273383496\n",
      "test accuracy: 0.39285714285714285\n",
      "iteration: 225 loss: 0.5275226769104503  accuracy: 0.7973856166297314\n",
      "test accuracy: 0.4642857142857143\n",
      "iteration: 250 loss: 0.42610785384583316  accuracy: 0.8300653641519983\n",
      "test accuracy: 0.5\n"
     ]
    },
    {
     "data": {
      "text/plain": [
       "[<matplotlib.lines.Line2D at 0x1b36b7b8>]"
      ]
     },
     "execution_count": 9,
     "metadata": {},
     "output_type": "execute_result"
    },
    {
     "data": {
      "image/png": "[encoded data removed]",
      "text/plain": [
       "<Figure size 432x288 with 1 Axes>"
      ]
     },
     "metadata": {},
     "output_type": "display_data"
    }
   ],
   "source": [
    "#build model\n",
    "model = Sequential()\n",
    "\n",
    "model.add(Embedding(len(embeddings_matrix),output_dim = 2,weights=[embeddings_matrix],mask_zero=True))\n",
    "model.add(GRU(batch_input_shape=(None,10),units=36,dropout = 0.0,bias_initializer='zeros'))\n",
    "model.add(Dense(units=6, kernel_initializer='normal', activation='softmax'))\n",
    "\n",
    "model.compile(loss='categorical_crossentropy', optimizer='rmsprop', metrics=['accuracy'])\n",
    "model.fit(X_train, np.array(y_train) ,batch_size=None, shuffle=True, verbose=1)\n",
    "#categorical_crossentropy\n",
    "#優化器:sgd adagrad rmsprop adadelta adam adamax nadam tfoptimizer\n",
    "\n",
    "\n",
    "loss_array = []\n",
    "accuracy_array = []\n",
    "accuracy_test = []\n",
    "\n",
    "for step in range(1, 251):\n",
    "    loss = model.train_on_batch(np.array(X_train), y_train)\n",
    "    loss, accuracy = model.evaluate(X_train, y_train, batch_size=y_test.shape[0], verbose=False)\n",
    "    X = X_test\n",
    "    predictions = model.predict_classes(X)\n",
    "    loss_array.append(loss)\n",
    "    accuracy_array.append(accuracy)\n",
    "    if step%25==0:\n",
    "        print(\"iteration:\",step,\"loss: {}  accuracy: {}\".format(loss,accuracy))\n",
    "    accuracy = 0\n",
    "    for i in range(28):\n",
    "        for j in range(6):\n",
    "            if y_test[i][j] == 1:\n",
    "                ans = j\n",
    "                if ans == predictions[i]:\n",
    "                    accuracy += 1\n",
    "    if step%25==0:\n",
    "        print(\"test accuracy:\",accuracy/28)\n",
    "    accuracy_test.append(accuracy/28)\n",
    "\n",
    "#get prediction result \n",
    "X = X_test\n",
    "predictions = model.predict_classes(X) \n",
    "accuracy = 0\n",
    "\n",
    "plt.xlabel('iterations')\n",
    "plt.ylabel('accuracy')\n",
    "plt.plot([x+1 for x in range(250)],accuracy_array)\n",
    "plt.plot([x+1 for x in range(250)],accuracy_test)\n",
    "\n"
   ]
  },
  {
   "cell_type": "code",
   "execution_count": null,
   "metadata": {},
   "outputs": [],
   "source": []
  },
  {
   "cell_type": "code",
   "execution_count": null,
   "metadata": {},
   "outputs": [],
   "source": []
  }
 ],
 "metadata": {
  "kernelspec": {
   "display_name": "Python 3",
   "language": "python",
   "name": "python3"
  },
  "language_info": {
   "codemirror_mode": {
    "name": "ipython",
    "version": 3
   },
   "file_extension": ".py",
   "mimetype": "text/x-python",
   "name": "python",
   "nbconvert_exporter": "python",
   "pygments_lexer": "ipython3",
   "version": "3.5.2"
  }
 },
 "nbformat": 4,
 "nbformat_minor": 2
}
