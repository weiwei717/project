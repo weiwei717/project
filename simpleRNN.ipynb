{
 "cells": [
  {
   "cell_type": "code",
   "execution_count": 5,
   "metadata": {
    "scrolled": true
   },
   "outputs": [],
   "source": [
    "# coding=utf-8\n",
    "import csv\n",
    "import os\n",
    "import numpy as np\n",
    "import tensorflow as tf\n",
    "from keras.models import Sequential\n",
    "from keras.layers import SimpleRNN, Activation, Dense, Embedding,LSTM\n",
    "import pandas as pd\n",
    "import jieba \n",
    "import logging\n",
    "from hanziconv import HanziConv\n",
    "from gensim.models import Word2Vec  \n",
    "from gensim.models.word2vec import LineSentence\n",
    "import matplotlib.pyplot as plt\n",
    "%matplotlib inline\n",
    "#logging.basicConfig(format='%(asctime)s : %(levelname)s : %(message)s', level=logging.INFO)"
   ]
  },
  {
   "cell_type": "code",
   "execution_count": 6,
   "metadata": {},
   "outputs": [],
   "source": [
    "#add dictionary\n",
    "jieba.add_word('不')\n",
    "jieba.add_word('喜歡')\n",
    "jieba.add_word('現在')\n",
    "jieba.add_word('在乎')\n",
    "jieba.add_word('瘋瞭')\n",
    "jieba.add_word('永遠')\n",
    "jieba.add_word('無法')\n",
    "jieba.add_word('這堂課')\n",
    "jieba.add_word('會')\n",
    "jieba.add_word('齣糗')\n",
    "jieba.add_word('退迴來')\n",
    "jieba.add_word('覺得')\n",
    "jieba.add_word('閤作')\n",
    "jieba.add_word('應該')\n",
    "jieba.add_word('這件事')\n",
    "jieba.add_word('外麵')\n",
    "jieba.add_word('麵對')\n",
    "jieba.add_word('太')\n",
    "jieba.add_word('對勁')\n",
    "jieba.add_word('控製')\n",
    "jieba.add_word('麵前')\n",
    "jieba.add_word('禮拜')\n",
    "jieba.add_word('睏擾')\n",
    "jieba.add_word('我')\n",
    "jieba.add_word('想')\n",
    "jieba.add_word('總是')\n",
    "jieba.add_word('都會')\n",
    "jieba.add_word('大傢')\n",
    "jieba.add_word('過得')\n",
    "jieba.add_word('大傢')\n",
    "jieba.add_word('背後')\n",
    "jieba.add_word('纔會')\n",
    "jieba.add_word('沒有')\n",
    "jieba.add_word('猜到')\n",
    "jieba.add_word('毀瞭')\n",
    "jieba.add_word('受傷')\n",
    "jieba.add_word('絕對')\n",
    "jieba.add_word('長得')\n",
    "jieba.add_word('處的來')\n",
    "jieba.add_word('也許')\n",
    "jieba.add_word('每')\n",
    "jieba.add_word('愛')"
   ]
  },
  {
   "cell_type": "code",
   "execution_count": 7,
   "metadata": {},
   "outputs": [],
   "source": [
    "filePath1='train_test.txt'\n",
    "fileSegWordDonePath1 ='corpusSegDone1.txt'\n",
    "filePath2='test.txt'\n",
    "fileSegWordDonePath2 ='corpusSegDone2.txt'\n",
    "filePath='trainandtest.txt'\n",
    "fileSegWordDonePath ='corpusSegDone.txt'\n",
    "\n",
    "\n",
    "\n",
    "# read the file by file\n",
    "fileTrainRead = []\n",
    "with open(filePath) as fileTrainRaw:\n",
    "    for line in fileTrainRaw:\n",
    "        fileTrainRead.append(HanziConv.toTraditional(line))\n",
    "# segment word with jieba\n",
    "fileTrainSeg=[]\n",
    "for i in range(len(fileTrainRead)):\n",
    "    fileTrainSeg.append([' '.join(list(jieba.cut(fileTrainRead[i][:],cut_all=False)))])\n",
    "    with open(fileSegWordDonePath,'wb') as fW:\n",
    "        for j in range(len(fileTrainSeg)):\n",
    "            fW.write(fileTrainSeg[j][0].encode('utf-8'))\n",
    "\n",
    "\n",
    "fileTrainRead = []\n",
    "with open(filePath1) as fileTrainRaw:\n",
    "    for line in fileTrainRaw:\n",
    "        fileTrainRead.append(HanziConv.toTraditional(line))\n",
    "\n",
    "# segment word with jieba\n",
    "fileTrainSeg=[]\n",
    "for i in range(len(fileTrainRead)):\n",
    "    fileTrainSeg.append([' '.join(list(jieba.cut(fileTrainRead[i][:],cut_all=False)))])\n",
    "    with open(fileSegWordDonePath1,'wb') as fW:\n",
    "        for j in range(len(fileTrainSeg)):\n",
    "            fW.write(fileTrainSeg[j][0].encode('utf-8'))\n",
    "\n",
    "fileTrainRead = []\n",
    "with open(filePath2) as fileTrainRaw:\n",
    "    for line in fileTrainRaw:\n",
    "        fileTrainRead.append(HanziConv.toTraditional(line))\n",
    "\n",
    "# segment word with jieba\n",
    "fileTrainSeg=[]\n",
    "for i in range(len(fileTrainRead)):\n",
    "    fileTrainSeg.append([' '.join(list(jieba.cut(fileTrainRead[i][:],cut_all=False)))])\n",
    "    with open(fileSegWordDonePath2,'wb') as fW:\n",
    "        for j in range(len(fileTrainSeg)):\n",
    "            fW.write(fileTrainSeg[j][0].encode('utf-8'))\n"
   ]
  },
  {
   "cell_type": "code",
   "execution_count": 8,
   "metadata": {},
   "outputs": [
    {
     "name": "stdout",
     "output_type": "stream",
     "text": [
      "Word2Vec(vocab=302, size=2, alpha=0.025)\n",
      "[0. 0.]\n",
      "0.1520334929227829\n"
     ]
    },
    {
     "name": "stderr",
     "output_type": "stream",
     "text": [
      "c:\\users\\wayway\\appdata\\local\\programs\\python\\python35\\lib\\site-packages\\ipykernel_launcher.py:22: FutureWarning: Method .as_matrix will be removed in a future version. Use .values instead.\n",
      "c:\\users\\wayway\\appdata\\local\\programs\\python\\python35\\lib\\site-packages\\ipykernel_launcher.py:26: FutureWarning: Method .as_matrix will be removed in a future version. Use .values instead.\n"
     ]
    }
   ],
   "source": [
    "inp1 = 'corpusSegDone.txt'\n",
    "fileSegWordDonePath1 ='corpusSegDone1.txt'\n",
    "fileSegWordDonePath2 ='corpusSegDone2.txt'\n",
    "kmodel = Word2Vec(LineSentence(inp1), size=2 , min_count=1)\n",
    "print(kmodel)\n",
    "word2idx = {\"_PAD\": 0} # 初始化 `[word : token]` 字典，后期 tokenize 语料库就是用该词典。\n",
    "vocab_list = [(k, kmodel.wv[k]) for k, v in kmodel.wv.vocab.items()]\n",
    "#存储所有 word2vec 中所有向量的数组，留意其中多一位，词向量全为 0， 用于 padding\n",
    "embeddings_matrix = np.zeros((len(kmodel.wv.vocab.items()) + 1, kmodel.vector_size))\n",
    "for i in range(len(vocab_list)):\n",
    "    word = vocab_list[i][0]\n",
    "    word2idx[word] = i + 1\n",
    "    embeddings_matrix[i + 1] = vocab_list[i][1]\n",
    "print(embeddings_matrix[0])\n",
    "print(embeddings_matrix[1][0])\n",
    "    \n",
    "#df = pd.read_csv('input.csv',header=None)\n",
    "#print (df)\n",
    "#X_train = df.as_matrix()\n",
    "#print (a.shape)\n",
    "df = pd.read_csv('output.csv',header=None)\n",
    "y_train = df.as_matrix()\n",
    "#print (a.shape)\n",
    "#print(X_train)\n",
    "df = pd.read_csv('output_test.csv',header=None)\n",
    "y_test = df.as_matrix()"
   ]
  },
  {
   "cell_type": "code",
   "execution_count": 9,
   "metadata": {},
   "outputs": [
    {
     "name": "stdout",
     "output_type": "stream",
     "text": [
      "[ 0.20665465 -0.25169942]\n",
      "[-0.06510532 -0.07174657]\n",
      "[0.12017527 0.09400789]\n",
      "[-0.22201583 -0.08662778]\n",
      "[-0.1607084 -0.2884205]\n"
     ]
    },
    {
     "name": "stderr",
     "output_type": "stream",
     "text": [
      "c:\\users\\wayway\\appdata\\local\\programs\\python\\python35\\lib\\site-packages\\ipykernel_launcher.py:3: DeprecationWarning: Call to deprecated `__getitem__` (Method will be removed in 4.0.0, use self.wv.__getitem__() instead).\n",
      "  This is separate from the ipykernel package so we can avoid doing imports until\n",
      "c:\\users\\wayway\\appdata\\local\\programs\\python\\python35\\lib\\site-packages\\ipykernel_launcher.py:4: DeprecationWarning: Call to deprecated `__getitem__` (Method will be removed in 4.0.0, use self.wv.__getitem__() instead).\n",
      "  after removing the cwd from sys.path.\n",
      "c:\\users\\wayway\\appdata\\local\\programs\\python\\python35\\lib\\site-packages\\ipykernel_launcher.py:5: DeprecationWarning: Call to deprecated `__getitem__` (Method will be removed in 4.0.0, use self.wv.__getitem__() instead).\n",
      "  \"\"\"\n",
      "c:\\users\\wayway\\appdata\\local\\programs\\python\\python35\\lib\\site-packages\\ipykernel_launcher.py:6: DeprecationWarning: Call to deprecated `__getitem__` (Method will be removed in 4.0.0, use self.wv.__getitem__() instead).\n",
      "  \n",
      "c:\\users\\wayway\\appdata\\local\\programs\\python\\python35\\lib\\site-packages\\ipykernel_launcher.py:7: DeprecationWarning: Call to deprecated `__getitem__` (Method will be removed in 4.0.0, use self.wv.__getitem__() instead).\n",
      "  import sys\n"
     ]
    }
   ],
   "source": [
    "#print(embeddings_matrix[1])\n",
    "\n",
    "print(kmodel[u'他'])\n",
    "print(kmodel[u'一定'])\n",
    "print(kmodel[u'不'])\n",
    "print(kmodel[u'信任'])\n",
    "print(kmodel[u'我'])"
   ]
  },
  {
   "cell_type": "code",
   "execution_count": 10,
   "metadata": {
    "scrolled": true
   },
   "outputs": [
    {
     "name": "stderr",
     "output_type": "stream",
     "text": [
      "c:\\users\\wayway\\appdata\\local\\programs\\python\\python35\\lib\\site-packages\\ipykernel_launcher.py:9: DeprecationWarning: Call to deprecated `__getitem__` (Method will be removed in 4.0.0, use self.wv.__getitem__() instead).\n",
      "  if __name__ == '__main__':\n",
      "c:\\users\\wayway\\appdata\\local\\programs\\python\\python35\\lib\\site-packages\\ipykernel_launcher.py:23: DeprecationWarning: Call to deprecated `__getitem__` (Method will be removed in 4.0.0, use self.wv.__getitem__() instead).\n"
     ]
    },
    {
     "name": "stdout",
     "output_type": "stream",
     "text": [
      "[[ 96 174 104 ...   0   0   0]\n",
      " [295 286   5 ...   0   0   0]\n",
      " [295   9 174 ...   0   0   0]\n",
      " ...\n",
      " [234 142 178 ...   0   0   0]\n",
      " [295 255 135 ...   0   0   0]\n",
      " [234 125 148 ...   0   0   0]]\n"
     ]
    },
    {
     "name": "stderr",
     "output_type": "stream",
     "text": [
      "c:\\users\\wayway\\appdata\\local\\programs\\python\\python35\\lib\\site-packages\\ipykernel_launcher.py:45: DeprecationWarning: Call to deprecated `__getitem__` (Method will be removed in 4.0.0, use self.wv.__getitem__() instead).\n",
      "c:\\users\\wayway\\appdata\\local\\programs\\python\\python35\\lib\\site-packages\\ipykernel_launcher.py:59: DeprecationWarning: Call to deprecated `__getitem__` (Method will be removed in 4.0.0, use self.wv.__getitem__() instead).\n"
     ]
    }
   ],
   "source": [
    "data_array = []\n",
    "with open(fileSegWordDonePath1,'rb') as fs:\n",
    "    row = fs.read().decode('utf-8').split(' ')\n",
    "    temp = []\n",
    "    count = 0\n",
    "    for i in range(len(row)):\n",
    "        if '\\n' not in row[i]:\n",
    "            for j in range(len(embeddings_matrix)):\n",
    "                if embeddings_matrix[j][0] == kmodel[row[i]][0]:\n",
    "                    temp.append(j)\n",
    "            count += 1\n",
    "        else:\n",
    "            if count<15:\n",
    "                num = 15 - count\n",
    "                for j in range(num):\n",
    "                    zero = 0\n",
    "                    temp.append(zero)\n",
    "            temp[0] = np.squeeze(temp[0])\n",
    "            data_array.append(temp)\n",
    "            word = row[i].split()\n",
    "            temp = []\n",
    "            for j in range(len(embeddings_matrix)):\n",
    "                if embeddings_matrix[j][0] == kmodel[word][0][0]:\n",
    "                    temp.append(j)\n",
    "            count = 1\n",
    "    if count<15:\n",
    "        num = 15 - count\n",
    "        for j in range(num):\n",
    "            zero = 0\n",
    "            temp.append(zero)\n",
    "    data_array.append(temp)\n",
    "data_array = np.array(data_array).reshape((153, 15))\n",
    "data_array[152][0] = np.squeeze(data_array[152][0])\n",
    "X_train=data_array[:,:]\n",
    "print (X_train)\n",
    "\n",
    "data_array = []\n",
    "with open(fileSegWordDonePath2,'rb') as fs:\n",
    "    row = fs.read().decode('utf-8').split(' ')\n",
    "    temp = []\n",
    "    count = 0\n",
    "    for i in range(len(row)):\n",
    "        if '\\n' not in row[i]:\n",
    "            for j in range(len(embeddings_matrix)):\n",
    "                if embeddings_matrix[j][0] == kmodel[row[i]][0]:\n",
    "                    temp.append(j)\n",
    "            count += 1\n",
    "        else:\n",
    "            if count<15:\n",
    "                num = 15 - count\n",
    "                for j in range(num):\n",
    "                    zero = 0\n",
    "                    temp.append(zero)\n",
    "            temp[0] = np.squeeze(temp[0])\n",
    "            data_array.append(temp)\n",
    "            word = row[i].split()\n",
    "            temp = []\n",
    "            for j in range(len(embeddings_matrix)):\n",
    "                if embeddings_matrix[j][0] == kmodel[word][0][0]:\n",
    "                    temp.append(j)\n",
    "            count = 1\n",
    "    if count<15:\n",
    "        num = 15 - count\n",
    "        for j in range(num):\n",
    "            zero = 0\n",
    "            temp.append(zero)\n",
    "    data_array.append(temp)\n",
    "\n",
    "data_array = np.array(data_array).reshape((28, 15))\n",
    "data_array[27][0] = np.squeeze(data_array[27][0])\n",
    "X_test=data_array[:,:]\n"
   ]
  },
  {
   "cell_type": "code",
   "execution_count": 11,
   "metadata": {},
   "outputs": [
    {
     "name": "stdout",
     "output_type": "stream",
     "text": [
      "Epoch 1/1\n",
      "153/153 [==============================] - 0s 2ms/step - loss: 1.7930 - acc: 0.2157\n",
      "iteration: 25 loss: 1.4027084696526622  accuracy: 0.4771241869022644\n",
      "test accuracy: 0.42857142857142855\n",
      "iteration: 50 loss: 1.221715768178304  accuracy: 0.5098039207894818\n",
      "test accuracy: 0.42857142857142855\n",
      "iteration: 75 loss: 1.0705523132498747  accuracy: 0.6013071778552984\n",
      "test accuracy: 0.35714285714285715\n",
      "iteration: 100 loss: 0.9121395244317896  accuracy: 0.6862745121413586\n",
      "test accuracy: 0.42857142857142855\n",
      "iteration: 125 loss: 0.7517495416348277  accuracy: 0.7254901906244116\n",
      "test accuracy: 0.35714285714285715\n",
      "iteration: 150 loss: 0.6149630792000714  accuracy: 0.7581699381466784\n",
      "test accuracy: 0.39285714285714285\n",
      "iteration: 175 loss: 0.46981558028389425  accuracy: 0.8496732006665149\n",
      "test accuracy: 0.39285714285714285\n",
      "iteration: 200 loss: 0.33737506624919916  accuracy: 0.8888888955116272\n",
      "test accuracy: 0.42857142857142855\n",
      "iteration: 225 loss: 0.23125746826720395  accuracy: 0.9542483741941016\n",
      "test accuracy: 0.42857142857142855\n",
      "iteration: 250 loss: 0.15335829848167942  accuracy: 0.9738562216166577\n",
      "test accuracy: 0.42857142857142855\n"
     ]
    },
    {
     "data": {
      "text/plain": [
       "[<matplotlib.lines.Line2D at 0x50716d8>]"
      ]
     },
     "execution_count": 11,
     "metadata": {},
     "output_type": "execute_result"
    },
    {
     "data": {
      "image/png": "[encoded data removed]",
      "text/plain": [
       "<Figure size 432x288 with 1 Axes>"
      ]
     },
     "metadata": {},
     "output_type": "display_data"
    }
   ],
   "source": [
    "#build model\n",
    "model = Sequential()\n",
    "\n",
    "model.add(Embedding(len(embeddings_matrix),output_dim = 2,weights=[embeddings_matrix],mask_zero=True))\n",
    "model.add(SimpleRNN(batch_input_shape=(None,10),units=60))\n",
    "model.add(Dense(units=6, kernel_initializer='normal', activation='softmax'))\n",
    "\n",
    "model.compile(loss='categorical_crossentropy', optimizer='rmsprop', metrics=['accuracy'])\n",
    "model.fit(X_train, np.array(y_train) ,batch_size=None, shuffle=True, verbose=1)\n",
    "#categorical_crossentropy\n",
    "#優化器:sgd adagrad rmsprop adadelta adam adamax nadam tfoptimizer\n",
    "\n",
    "\n",
    "loss_array = []\n",
    "accuracy_array = []\n",
    "accuracy_test = []\n",
    "\n",
    "for step in range(1, 251):\n",
    "    loss = model.train_on_batch(np.array(X_train), y_train)\n",
    "    loss, accuracy = model.evaluate(X_train, y_train, batch_size=y_test.shape[0], verbose=False)\n",
    "    X = X_test\n",
    "    predictions = model.predict_classes(X)\n",
    "    loss_array.append(loss)\n",
    "    accuracy_array.append(accuracy)\n",
    "    if step%25==0:\n",
    "        print(\"iteration:\",step,\"loss: {}  accuracy: {}\".format(loss,accuracy))\n",
    "    accuracy = 0\n",
    "    for i in range(28):\n",
    "        for j in range(6):\n",
    "            if y_test[i][j] == 1:\n",
    "                ans = j\n",
    "                if ans == predictions[i]:\n",
    "                    accuracy += 1\n",
    "    if step%25==0:\n",
    "        print(\"test accuracy:\",accuracy/28)\n",
    "    accuracy_test.append(accuracy/28)\n",
    "\n",
    "#get prediction result \n",
    "X = X_test\n",
    "predictions = model.predict_classes(X) \n",
    "accuracy = 0\n",
    "\n",
    "plt.xlabel('iterations')\n",
    "plt.ylabel('accuracy')\n",
    "plt.plot([x+1 for x in range(250)],accuracy_array)\n",
    "plt.plot([x+1 for x in range(250)],accuracy_test)\n",
    "\n"
   ]
  },
  {
   "cell_type": "code",
   "execution_count": null,
   "metadata": {},
   "outputs": [],
   "source": []
  },
  {
   "cell_type": "code",
   "execution_count": null,
   "metadata": {},
   "outputs": [],
   "source": []
  }
 ],
 "metadata": {
  "kernelspec": {
   "display_name": "Python 3",
   "language": "python",
   "name": "python3"
  },
  "language_info": {
   "codemirror_mode": {
    "name": "ipython",
    "version": 3
   },
   "file_extension": ".py",
   "mimetype": "text/x-python",
   "name": "python",
   "nbconvert_exporter": "python",
   "pygments_lexer": "ipython3",
   "version": "3.5.2"
  }
 },
 "nbformat": 4,
 "nbformat_minor": 2
}
